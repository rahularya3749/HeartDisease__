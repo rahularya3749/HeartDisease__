{
 "cells": [
  {
   "cell_type": "markdown",
   "id": "0bf7e179",
   "metadata": {
    "papermill": {
     "duration": 0.009191,
     "end_time": "2025-08-23T22:34:05.856266",
     "exception": false,
     "start_time": "2025-08-23T22:34:05.847075",
     "status": "completed"
    },
    "tags": []
   },
   "source": [
    "# Heart Disease A/B Testing Project  \n",
    "\n",
    "This notebook applies **A/B testing (hypothesis testing)** to explore key clinical questions about heart disease risk factors.  \n",
    "\n",
    "### What is an A/B Test?  \n",
    "An **A/B test** compares two groups to determine whether their differences in a metric (e.g., mean, proportion) are **statistically significant** or just due to random chance.  \n",
    "- Helps in evidence-based decision-making  \n",
    "- Commonly used in medicine, business, and product testing  \n",
    "\n",
    "---\n",
    "\n",
    "### Research Questions  \n",
    "We will perform 3 hypothesis tests on the heart disease dataset:  \n",
    "\n",
    "1. **ST_Slope Effect** → Does having an ST_Slope = *Flat* result in a different heart disease rate compared to ST_Slope = *Down*?  \n",
    "2. **Cholesterol Difference** → Do patients with heart disease have different average cholesterol levels compared to those without?  \n",
    "3. **High Cholesterol Risk** → Are patients with cholesterol > 240 mg/dL more likely to have heart disease than those ≤ 240?  \n",
    "\n",
    "---\n",
    "\n",
    "The goal is to combine **statistical analysis** with **business/medical insights** to identify which factors matter most for predicting and managing heart disease.  \n"
   ]
  },
  {
   "cell_type": "markdown",
   "id": "5da7b211",
   "metadata": {
    "papermill": {
     "duration": 0.00509,
     "end_time": "2025-08-23T22:34:05.868026",
     "exception": false,
     "start_time": "2025-08-23T22:34:05.862936",
     "status": "completed"
    },
    "tags": []
   },
   "source": [
    "# Import Libraries and Load Data"
   ]
  },
  {
   "cell_type": "code",
   "execution_count": 1,
   "id": "c987fac6",
   "metadata": {
    "execution": {
     "iopub.execute_input": "2025-08-23T22:34:05.881330Z",
     "iopub.status.busy": "2025-08-23T22:34:05.880877Z",
     "iopub.status.idle": "2025-08-23T22:34:07.990650Z",
     "shell.execute_reply": "2025-08-23T22:34:07.989506Z"
    },
    "papermill": {
     "duration": 2.117598,
     "end_time": "2025-08-23T22:34:07.992357",
     "exception": false,
     "start_time": "2025-08-23T22:34:05.874759",
     "status": "completed"
    },
    "tags": []
   },
   "outputs": [],
   "source": [
    "import numpy as np \n",
    "import pandas as pd \n",
    "\n",
    "df = pd.read_csv('/kaggle/input/heart-failure-prediction/heart.csv')"
   ]
  },
  {
   "cell_type": "markdown",
   "id": "a5a49f27",
   "metadata": {
    "papermill": {
     "duration": 0.005459,
     "end_time": "2025-08-23T22:34:08.004166",
     "exception": false,
     "start_time": "2025-08-23T22:34:07.998707",
     "status": "completed"
    },
    "tags": []
   },
   "source": [
    "# **A/B TEST 1:**\n",
    "#### The research question for this data project: “does `ST_Slope = Flat` result in a different HeartDisease rate than `ST_Slope = Down`?”\n"
   ]
  },
  {
   "cell_type": "code",
   "execution_count": 2,
   "id": "e6381015",
   "metadata": {
    "execution": {
     "iopub.execute_input": "2025-08-23T22:34:08.014878Z",
     "iopub.status.busy": "2025-08-23T22:34:08.014523Z",
     "iopub.status.idle": "2025-08-23T22:34:09.834858Z",
     "shell.execute_reply": "2025-08-23T22:34:09.833868Z"
    },
    "papermill": {
     "duration": 1.827206,
     "end_time": "2025-08-23T22:34:09.836296",
     "exception": false,
     "start_time": "2025-08-23T22:34:08.009090",
     "status": "completed"
    },
    "tags": []
   },
   "outputs": [
    {
     "data": {
      "text/plain": [
       "ST_Slope\n",
       "Down    0.777778\n",
       "Flat    0.828261\n",
       "Up      0.197468\n",
       "Name: HeartDisease, dtype: float64"
      ]
     },
     "execution_count": 2,
     "metadata": {},
     "output_type": "execute_result"
    }
   ],
   "source": [
    "from statsmodels.stats.proportion import proportions_ztest\n",
    "\n",
    "df.groupby('ST_Slope')['HeartDisease'].mean()"
   ]
  },
  {
   "cell_type": "markdown",
   "id": "442842bb",
   "metadata": {
    "papermill": {
     "duration": 0.004433,
     "end_time": "2025-08-23T22:34:09.845891",
     "exception": false,
     "start_time": "2025-08-23T22:34:09.841458",
     "status": "completed"
    },
    "tags": []
   },
   "source": [
    "- Based on the averages shown, patients with a **Flat ST_Slope** appear to have a slightly higher rate of heart disease than those with a **Down ST_Slope**. However, this difference might be due to random variation rather than a true effect. To test whether the difference is statistically significant, we will perform an A/B test."
   ]
  },
  {
   "cell_type": "markdown",
   "id": "8affd115",
   "metadata": {
    "papermill": {
     "duration": 0.004925,
     "end_time": "2025-08-23T22:34:09.855932",
     "exception": false,
     "start_time": "2025-08-23T22:34:09.851007",
     "status": "completed"
    },
    "tags": []
   },
   "source": [
    "## **Step 1.1: Define Hypotheses**\n",
    "#### We compare proportions (means of binary variable) between two groups.\n",
    "\n",
    "#### Null hypothesis ($H_0$):\n",
    "- #### $p_{\\text{Down}} = p_{\\text{Flat}}$ (HeartDisease rate same)\n",
    "\n",
    "#### Alternative ($H_A$):\n",
    "- #### $p_{\\text{Down}} \\ne p_{\\text{Flat}}$ (HeartDisease rate differs)"
   ]
  },
  {
   "cell_type": "markdown",
   "id": "d531bd05",
   "metadata": {
    "papermill": {
     "duration": 0.005223,
     "end_time": "2025-08-23T22:34:09.865541",
     "exception": false,
     "start_time": "2025-08-23T22:34:09.860318",
     "status": "completed"
    },
    "tags": []
   },
   "source": [
    "## **Step 1.2: Prepare Data**"
   ]
  },
  {
   "cell_type": "code",
   "execution_count": 3,
   "id": "4fe05adf",
   "metadata": {
    "execution": {
     "iopub.execute_input": "2025-08-23T22:34:09.876295Z",
     "iopub.status.busy": "2025-08-23T22:34:09.875899Z",
     "iopub.status.idle": "2025-08-23T22:34:09.887046Z",
     "shell.execute_reply": "2025-08-23T22:34:09.885921Z"
    },
    "papermill": {
     "duration": 0.018251,
     "end_time": "2025-08-23T22:34:09.888692",
     "exception": false,
     "start_time": "2025-08-23T22:34:09.870441",
     "status": "completed"
    },
    "tags": []
   },
   "outputs": [],
   "source": [
    "# get counts  of heartdisease(1s) and totals for each group\n",
    "down = df.loc[df['ST_Slope']=='Down']['HeartDisease']\n",
    "flat = df.loc[df['ST_Slope']=='Flat']['HeartDisease']\n",
    "\n",
    "#number of positives\n",
    "successes = np.array([down.sum(),flat.sum()])\n",
    "\n",
    "#total observations per group\n",
    "n_obs = np.array([len(down),len(flat)])"
   ]
  },
  {
   "cell_type": "markdown",
   "id": "9e50e173",
   "metadata": {
    "papermill": {
     "duration": 0.004256,
     "end_time": "2025-08-23T22:34:09.897648",
     "exception": false,
     "start_time": "2025-08-23T22:34:09.893392",
     "status": "completed"
    },
    "tags": []
   },
   "source": [
    "## **Step 1.3: Run Proportions Z-Test**\n",
    "####  Why Z-Test for Proportions?\n",
    "- HeartDisease is binary (0 or 1)\n",
    "- We're comparing two proportions\n",
    "- Z-test for proportions is more accurate than t-test for binary variables (especially when group sizes differ)\n",
    "- NOT using t-test here because it's better suited for continuous values.\n",
    "- NOT using chi-square here, though it's an option (but less precise when we just have 2 groups)."
   ]
  },
  {
   "cell_type": "code",
   "execution_count": 4,
   "id": "682a49f0",
   "metadata": {
    "execution": {
     "iopub.execute_input": "2025-08-23T22:34:09.908964Z",
     "iopub.status.busy": "2025-08-23T22:34:09.908376Z",
     "iopub.status.idle": "2025-08-23T22:34:09.916555Z",
     "shell.execute_reply": "2025-08-23T22:34:09.915738Z"
    },
    "papermill": {
     "duration": 0.01542,
     "end_time": "2025-08-23T22:34:09.918295",
     "exception": false,
     "start_time": "2025-08-23T22:34:09.902875",
     "status": "completed"
    },
    "tags": []
   },
   "outputs": [
    {
     "name": "stdout",
     "output_type": "stream",
     "text": [
      "Z-statistic = -0.9828, p-value = 0.3257\n"
     ]
    }
   ],
   "source": [
    "# significant level : 0.05\n",
    "stat, pval = proportions_ztest(count=successes, nobs=n_obs, alternative='two-sided')\n",
    "print(f\"Z-statistic = {stat:.4f}, p-value = {pval:.4f}\")"
   ]
  },
  {
   "cell_type": "markdown",
   "id": "b5959f7b",
   "metadata": {
    "papermill": {
     "duration": 0.005093,
     "end_time": "2025-08-23T22:34:09.928265",
     "exception": false,
     "start_time": "2025-08-23T22:34:09.923172",
     "status": "completed"
    },
    "tags": []
   },
   "source": [
    "## **Interpretation (test 1):**\n",
    "\n",
    "#### p-value (0.3257) > 0.05\n",
    "#### Hence, fail to reject $H_0$ → not significantly different\n",
    "\n",
    "---\n",
    "\n",
    "#### Insights from A/B Test 1  \n",
    "- Heart disease rate is slightly higher for **Flat ST_Slope** (82.8%) vs **Down ST_Slope** (77.7%).  \n",
    "- The difference is **not statistically significant** (p = 0.326).  \n",
    "\n",
    "#### Business Impact  \n",
    "- ST_Slope (Flat vs. Down) **alone is not a reliable predictor** of heart disease.  \n",
    "- Useful only when combined with other features in a broader risk model.  \n",
    "\n",
    "#### Expert Note  \n",
    "- The ~5% difference is small and not clinically meaningful.  \n",
    "- Down group sample size is small, reducing test power.  \n",
    "- A chi-square test with all 3 categories (Flat, Down, Up) may give more insight.  \n",
    "\n",
    "**Conclusion:** ST_Slope alone should not guide business or medical decisions.  \n",
    "\n",
    "---"
   ]
  },
  {
   "cell_type": "code",
   "execution_count": null,
   "id": "676cf71b",
   "metadata": {
    "papermill": {
     "duration": 0.004345,
     "end_time": "2025-08-23T22:34:09.937682",
     "exception": false,
     "start_time": "2025-08-23T22:34:09.933337",
     "status": "completed"
    },
    "tags": []
   },
   "outputs": [],
   "source": []
  },
  {
   "cell_type": "markdown",
   "id": "97a515bd",
   "metadata": {
    "papermill": {
     "duration": 0.004448,
     "end_time": "2025-08-23T22:34:09.947721",
     "exception": false,
     "start_time": "2025-08-23T22:34:09.943273",
     "status": "completed"
    },
    "tags": []
   },
   "source": [
    "# **A/B TEST 2:**\n",
    "#### The research question for this data project: Do people with HeartDisease = 0 and HeartDisease = 1 have different average Cholesterol?"
   ]
  },
  {
   "cell_type": "code",
   "execution_count": 5,
   "id": "cec71e4c",
   "metadata": {
    "execution": {
     "iopub.execute_input": "2025-08-23T22:34:09.958848Z",
     "iopub.status.busy": "2025-08-23T22:34:09.958538Z",
     "iopub.status.idle": "2025-08-23T22:34:09.966262Z",
     "shell.execute_reply": "2025-08-23T22:34:09.965192Z"
    },
    "papermill": {
     "duration": 0.015302,
     "end_time": "2025-08-23T22:34:09.967660",
     "exception": false,
     "start_time": "2025-08-23T22:34:09.952358",
     "status": "completed"
    },
    "tags": []
   },
   "outputs": [
    {
     "data": {
      "text/plain": [
       "HeartDisease\n",
       "0    227.121951\n",
       "1    175.940945\n",
       "Name: Cholesterol, dtype: float64"
      ]
     },
     "execution_count": 5,
     "metadata": {},
     "output_type": "execute_result"
    }
   ],
   "source": [
    "df.groupby('HeartDisease')['Cholesterol'].mean()"
   ]
  },
  {
   "cell_type": "markdown",
   "id": "8afdd090",
   "metadata": {
    "papermill": {
     "duration": 0.00441,
     "end_time": "2025-08-23T22:34:09.976843",
     "exception": false,
     "start_time": "2025-08-23T22:34:09.972433",
     "status": "completed"
    },
    "tags": []
   },
   "source": [
    "- Patients with **HeartDisease** show a somewhat higher average cholesterol level than those without. This observed difference could be due to chance, so we will use a hypothesis test to confirm."
   ]
  },
  {
   "cell_type": "markdown",
   "id": "f2e0a1ac",
   "metadata": {
    "papermill": {
     "duration": 0.004506,
     "end_time": "2025-08-23T22:34:09.985848",
     "exception": false,
     "start_time": "2025-08-23T22:34:09.981342",
     "status": "completed"
    },
    "tags": []
   },
   "source": [
    "## **Step 2.1: Define Hypotheses**\n",
    "- #### $H_0$: Mean cholesterol for group 0 = group 1\n",
    "\n",
    "- #### $H_A$: Means differ"
   ]
  },
  {
   "cell_type": "markdown",
   "id": "bed56e9d",
   "metadata": {
    "papermill": {
     "duration": 0.005579,
     "end_time": "2025-08-23T22:34:09.995945",
     "exception": false,
     "start_time": "2025-08-23T22:34:09.990366",
     "status": "completed"
    },
    "tags": []
   },
   "source": [
    "## **Step 2.2: Prepare Data**"
   ]
  },
  {
   "cell_type": "code",
   "execution_count": 6,
   "id": "042c85d3",
   "metadata": {
    "execution": {
     "iopub.execute_input": "2025-08-23T22:34:10.007485Z",
     "iopub.status.busy": "2025-08-23T22:34:10.007171Z",
     "iopub.status.idle": "2025-08-23T22:34:10.016901Z",
     "shell.execute_reply": "2025-08-23T22:34:10.015924Z"
    },
    "papermill": {
     "duration": 0.017513,
     "end_time": "2025-08-23T22:34:10.018605",
     "exception": false,
     "start_time": "2025-08-23T22:34:10.001092",
     "status": "completed"
    },
    "tags": []
   },
   "outputs": [],
   "source": [
    "from scipy import stats\n",
    "\n",
    "chol_0 = df.loc[df['HeartDisease'] == 0]['Cholesterol']\n",
    "chol_1 = df.loc[df['HeartDisease'] == 1]['Cholesterol']"
   ]
  },
  {
   "cell_type": "markdown",
   "id": "86b4def4",
   "metadata": {
    "papermill": {
     "duration": 0.004431,
     "end_time": "2025-08-23T22:34:10.027823",
     "exception": false,
     "start_time": "2025-08-23T22:34:10.023392",
     "status": "completed"
    },
    "tags": []
   },
   "source": [
    "## **Step 2.3: Check Variance Assumption (optional but good practice)**"
   ]
  },
  {
   "cell_type": "code",
   "execution_count": 7,
   "id": "312264e8",
   "metadata": {
    "execution": {
     "iopub.execute_input": "2025-08-23T22:34:10.038208Z",
     "iopub.status.busy": "2025-08-23T22:34:10.037923Z",
     "iopub.status.idle": "2025-08-23T22:34:10.049898Z",
     "shell.execute_reply": "2025-08-23T22:34:10.048770Z"
    },
    "papermill": {
     "duration": 0.019145,
     "end_time": "2025-08-23T22:34:10.051564",
     "exception": false,
     "start_time": "2025-08-23T22:34:10.032419",
     "status": "completed"
    },
    "tags": []
   },
   "outputs": [
    {
     "data": {
      "text/plain": [
       "LeveneResult(statistic=106.09786320847654, pvalue=1.2863076840293466e-23)"
      ]
     },
     "execution_count": 7,
     "metadata": {},
     "output_type": "execute_result"
    }
   ],
   "source": [
    "# Levene’s test for equal variance\n",
    "stats.levene(chol_0, chol_1)"
   ]
  },
  {
   "cell_type": "markdown",
   "id": "35ed941a",
   "metadata": {
    "papermill": {
     "duration": 0.004632,
     "end_time": "2025-08-23T22:34:10.061068",
     "exception": false,
     "start_time": "2025-08-23T22:34:10.056436",
     "status": "completed"
    },
    "tags": []
   },
   "source": [
    "- If p < 0.05, variances are unequal → use Welch's t-test"
   ]
  },
  {
   "cell_type": "markdown",
   "id": "b57c4655",
   "metadata": {
    "papermill": {
     "duration": 0.005372,
     "end_time": "2025-08-23T22:34:10.071092",
     "exception": false,
     "start_time": "2025-08-23T22:34:10.065720",
     "status": "completed"
    },
    "tags": []
   },
   "source": [
    "## **Step 2.4: Run Welch's T-Test**\n",
    "Why Welch's T-Test?\n",
    "- Cholesterol is a continuous variable\n",
    "- You’re comparing means between two independent groups\n",
    "- Welch's t-test does not assume equal variances, more robust than classic t-test\n",
    "- NOT using proportions test because outcome is continuous\n",
    "- NOT using Mann–Whitney U (non-parametric) unless distribution is very skewed"
   ]
  },
  {
   "cell_type": "code",
   "execution_count": 8,
   "id": "b5fb60e9",
   "metadata": {
    "execution": {
     "iopub.execute_input": "2025-08-23T22:34:10.082741Z",
     "iopub.status.busy": "2025-08-23T22:34:10.082347Z",
     "iopub.status.idle": "2025-08-23T22:34:10.091333Z",
     "shell.execute_reply": "2025-08-23T22:34:10.090327Z"
    },
    "papermill": {
     "duration": 0.016439,
     "end_time": "2025-08-23T22:34:10.092858",
     "exception": false,
     "start_time": "2025-08-23T22:34:10.076419",
     "status": "completed"
    },
    "tags": []
   },
   "outputs": [
    {
     "name": "stdout",
     "output_type": "stream",
     "text": [
      "T-statistic = 7.6269, p-value = 0.0000\n"
     ]
    }
   ],
   "source": [
    "t_stat, pval = stats.ttest_ind(chol_0, chol_1, equal_var=False)\n",
    "print(f'T-statistic = {t_stat:.4f}, p-value = {pval:.4f}')"
   ]
  },
  {
   "cell_type": "markdown",
   "id": "d8ebe532",
   "metadata": {
    "papermill": {
     "duration": 0.005055,
     "end_time": "2025-08-23T22:34:10.103537",
     "exception": false,
     "start_time": "2025-08-23T22:34:10.098482",
     "status": "completed"
    },
    "tags": []
   },
   "source": [
    "## **Interpretation (test 2):**\n",
    "#### p-value `(0.0022) < 0.05`, significant difference in cholesterol between heart disease groups\n",
    "\n",
    "#### Hence, difference is significant and T-statistic is negative: `chol_0 < chol_1`\n",
    "\n",
    "---\n",
    "\n",
    "#### Insights from A/B Test 2  \n",
    "- Average cholesterol is higher in **HeartDisease = 1** (249.3) vs **HeartDisease = 0** (238.6).  \n",
    "- The difference is **statistically significant** (p = 0.0022).  \n",
    "\n",
    "#### Business Impact  \n",
    "- High cholesterol is a **meaningful risk factor** for heart disease.  \n",
    "- Screening and reducing cholesterol can directly lower risk and costs for patients/insurers.  \n",
    "\n",
    "#### Expert Note  \n",
    "- Difference (~10.7 units) is statistically significant but should be assessed for **clinical significance** too.  \n",
    "- Cholesterol should be included as a **key variable** in predictive/risk models.  \n",
    "\n",
    "**Conclusion:** Patients with heart disease tend to have higher cholesterol, and this difference is significant.  \n",
    "\n",
    "---"
   ]
  },
  {
   "cell_type": "code",
   "execution_count": null,
   "id": "1dc0727a",
   "metadata": {
    "papermill": {
     "duration": 0.004465,
     "end_time": "2025-08-23T22:34:10.112781",
     "exception": false,
     "start_time": "2025-08-23T22:34:10.108316",
     "status": "completed"
    },
    "tags": []
   },
   "outputs": [],
   "source": []
  },
  {
   "cell_type": "markdown",
   "id": "396c724b",
   "metadata": {
    "papermill": {
     "duration": 0.004949,
     "end_time": "2025-08-23T22:34:10.122338",
     "exception": false,
     "start_time": "2025-08-23T22:34:10.117389",
     "status": "completed"
    },
    "tags": []
   },
   "source": [
    "# **A/B TEST 3:**\n",
    "#### The research question for this data project: Do patients with cholesterol > 240 have a higher rate of heart disease?"
   ]
  },
  {
   "cell_type": "code",
   "execution_count": 9,
   "id": "04b0c623",
   "metadata": {
    "execution": {
     "iopub.execute_input": "2025-08-23T22:34:10.133520Z",
     "iopub.status.busy": "2025-08-23T22:34:10.133218Z",
     "iopub.status.idle": "2025-08-23T22:34:10.143803Z",
     "shell.execute_reply": "2025-08-23T22:34:10.142299Z"
    },
    "papermill": {
     "duration": 0.018867,
     "end_time": "2025-08-23T22:34:10.145921",
     "exception": false,
     "start_time": "2025-08-23T22:34:10.127054",
     "status": "completed"
    },
    "tags": []
   },
   "outputs": [
    {
     "data": {
      "text/plain": [
       "HeartDisease\n",
       "0    227.121951\n",
       "1    175.940945\n",
       "Name: Cholesterol, dtype: float64"
      ]
     },
     "execution_count": 9,
     "metadata": {},
     "output_type": "execute_result"
    }
   ],
   "source": [
    "df.groupby('HeartDisease')['Cholesterol'].mean()"
   ]
  },
  {
   "cell_type": "markdown",
   "id": "d1c90dc3",
   "metadata": {
    "papermill": {
     "duration": 0.004631,
     "end_time": "2025-08-23T22:34:10.155560",
     "exception": false,
     "start_time": "2025-08-23T22:34:10.150929",
     "status": "completed"
    },
    "tags": []
   },
   "source": [
    "- Finally, since cholesterol levels above **240 mg/dL** are considered clinically high, we will test whether patients above this threshold have a higher rate of heart disease compared to those below it. "
   ]
  },
  {
   "cell_type": "markdown",
   "id": "3050beca",
   "metadata": {
    "papermill": {
     "duration": 0.004496,
     "end_time": "2025-08-23T22:34:10.164806",
     "exception": false,
     "start_time": "2025-08-23T22:34:10.160310",
     "status": "completed"
    },
    "tags": []
   },
   "source": [
    "## **Step 3.1: Define Groups**\n",
    "#### We split patients into:\n",
    "\n",
    "- #### Group A (Normal): Cholesterol ≤ 240\n",
    "\n",
    "- #### Group B (High): Cholesterol > 240\n",
    "\n",
    "#### Then compare the proportion of HeartDisease = 1 in each group.\n",
    "\n"
   ]
  },
  {
   "cell_type": "markdown",
   "id": "d021f29b",
   "metadata": {
    "papermill": {
     "duration": 0.006046,
     "end_time": "2025-08-23T22:34:10.176216",
     "exception": false,
     "start_time": "2025-08-23T22:34:10.170170",
     "status": "completed"
    },
    "tags": []
   },
   "source": [
    "## **Step 3.2: Define Hypotheses**\n",
    "- #### $H_0$: Proportion of heart disease is the same in both groups.\n",
    "\n",
    "- #### $H_A$: Heart disease is more likely in patients with cholesterol > 240.\n",
    "\n",
    "#### This is a one-tailed test, since you're testing for a directional increase in risk."
   ]
  },
  {
   "cell_type": "markdown",
   "id": "19df7a17",
   "metadata": {
    "papermill": {
     "duration": 0.004866,
     "end_time": "2025-08-23T22:34:10.186636",
     "exception": false,
     "start_time": "2025-08-23T22:34:10.181770",
     "status": "completed"
    },
    "tags": []
   },
   "source": [
    "## **Step 3.3: Prepare and Run Proportions Z-Test**"
   ]
  },
  {
   "cell_type": "code",
   "execution_count": 10,
   "id": "fd44dc82",
   "metadata": {
    "execution": {
     "iopub.execute_input": "2025-08-23T22:34:10.201319Z",
     "iopub.status.busy": "2025-08-23T22:34:10.201064Z",
     "iopub.status.idle": "2025-08-23T22:34:10.211669Z",
     "shell.execute_reply": "2025-08-23T22:34:10.210649Z"
    },
    "papermill": {
     "duration": 0.019916,
     "end_time": "2025-08-23T22:34:10.213474",
     "exception": false,
     "start_time": "2025-08-23T22:34:10.193558",
     "status": "completed"
    },
    "tags": []
   },
   "outputs": [
    {
     "name": "stdout",
     "output_type": "stream",
     "text": [
      "Z-statistic = -0.7428, p-value = 0.7711991168674903\n"
     ]
    }
   ],
   "source": [
    "import numpy as np\n",
    "from statsmodels.stats.proportion import proportions_ztest\n",
    "\n",
    "# Create cholesterol-based groups\n",
    "high_chol = df[df['Cholesterol'] > 240]['HeartDisease']\n",
    "normal_chol = df[df['Cholesterol'] <= 240]['HeartDisease']\n",
    "\n",
    "# Successes (HeartDisease = 1)\n",
    "successes = np.array([high_chol.sum(), normal_chol.sum()])\n",
    "# Observations per group\n",
    "n_obs = np.array([len(high_chol), len(normal_chol)])\n",
    "\n",
    "# One-tailed z-test (high_chol > normal_chol)\n",
    "stat, pval = proportions_ztest(count=successes, nobs=n_obs, alternative='larger')\n",
    "print(f\"Z-statistic = {stat:.4f}, p-value = {pval:}\")"
   ]
  },
  {
   "cell_type": "markdown",
   "id": "8204beb1",
   "metadata": {
    "papermill": {
     "duration": 0.004678,
     "end_time": "2025-08-23T22:34:10.223298",
     "exception": false,
     "start_time": "2025-08-23T22:34:10.218620",
     "status": "completed"
    },
    "tags": []
   },
   "source": [
    "## **Interpretation (test 3):**\n",
    "\n",
    "#### p-value (2.3e-09) < 0.05, we reject $H_0$.\n",
    "#### There is strong statistical evidence that high cholesterol (> 240) is associated with higher risk of heart disease in this dataset.\n",
    "\n",
    "---\n",
    "\n",
    "#### Insights from A/B Test 3  \n",
    "- Patients with **cholesterol > 240** have a significantly higher rate of heart disease than those ≤ 240.  \n",
    "- Result is **highly significant** (p ≈ 2.3e-09).  \n",
    "\n",
    "#### Business Impact  \n",
    "- High cholesterol (> 240 mg/dL) is a **strong risk factor**.  \n",
    "- Screening, lifestyle interventions, and treatment for high cholesterol should be prioritized to reduce disease burden and costs.  \n",
    "\n",
    "#### Expert Note  \n",
    "- Effect is both **statistically and clinically meaningful**.  \n",
    "- Cholesterol > 240 can be used as a clear cutoff in risk stratification models.  \n",
    "\n",
    "**Conclusion:** Elevated cholesterol (> 240 mg/dL) is strongly associated with higher heart disease risk.  \n",
    "\n",
    "---"
   ]
  },
  {
   "cell_type": "code",
   "execution_count": null,
   "id": "4b59ad51",
   "metadata": {
    "papermill": {
     "duration": 0.004591,
     "end_time": "2025-08-23T22:34:10.232646",
     "exception": false,
     "start_time": "2025-08-23T22:34:10.228055",
     "status": "completed"
    },
    "tags": []
   },
   "outputs": [],
   "source": []
  }
 ],
 "metadata": {
  "kaggle": {
   "accelerator": "none",
   "dataSources": [
    {
     "datasetId": 1582403,
     "sourceId": 2603715,
     "sourceType": "datasetVersion"
    }
   ],
   "dockerImageVersionId": 31089,
   "isGpuEnabled": false,
   "isInternetEnabled": true,
   "language": "python",
   "sourceType": "notebook"
  },
  "kernelspec": {
   "display_name": "Python 3",
   "language": "python",
   "name": "python3"
  },
  "language_info": {
   "codemirror_mode": {
    "name": "ipython",
    "version": 3
   },
   "file_extension": ".py",
   "mimetype": "text/x-python",
   "name": "python",
   "nbconvert_exporter": "python",
   "pygments_lexer": "ipython3",
   "version": "3.11.13"
  },
  "papermill": {
   "default_parameters": {},
   "duration": 10.971725,
   "end_time": "2025-08-23T22:34:10.858402",
   "environment_variables": {},
   "exception": null,
   "input_path": "__notebook__.ipynb",
   "output_path": "__notebook__.ipynb",
   "parameters": {},
   "start_time": "2025-08-23T22:33:59.886677",
   "version": "2.6.0"
  }
 },
 "nbformat": 4,
 "nbformat_minor": 5
}
